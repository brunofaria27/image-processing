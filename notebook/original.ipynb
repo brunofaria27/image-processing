{
 "cells": [
  {
   "cell_type": "code",
   "execution_count": 5,
   "metadata": {},
   "outputs": [],
   "source": [
    "# Imports\n",
    "import os\n",
    "import matplotlib.pyplot as plt\n",
    "import cv2\n",
    "import numpy as np\n",
    "\n",
    "from PIL import Image"
   ]
  },
  {
   "cell_type": "code",
   "execution_count": 6,
   "metadata": {},
   "outputs": [],
   "source": [
    "def read_images(dir_name):\n",
    "    base_dir = dir_name\n",
    "\n",
    "    image_data = {}\n",
    "\n",
    "    for folder in os.listdir(base_dir):\n",
    "        folder_path = os.path.join(base_dir, folder)\n",
    "        \n",
    "        if os.path.isdir(folder_path):\n",
    "            images = []\n",
    "            \n",
    "            for filename in os.listdir(folder_path):\n",
    "                file_path = os.path.join(folder_path, filename)\n",
    "                \n",
    "                if file_path.lower().endswith(('.png', '.jpg')):\n",
    "                    image = Image.open(file_path)\n",
    "                    images.append(image)\n",
    "            \n",
    "            image_data[folder] = images\n",
    "    return image_data"
   ]
  },
  {
   "cell_type": "code",
   "execution_count": 7,
   "metadata": {},
   "outputs": [],
   "source": [
    "def get_colors_around_center_pixel(image, radius=5):\n",
    "    height, width = image.size\n",
    "    center_x, center_y = width // 2, height // 2\n",
    "\n",
    "    colors = []\n",
    "\n",
    "    for x in range(center_x - radius, center_x + radius + 1):\n",
    "        for y in range(center_y - radius, center_y + radius + 1):\n",
    "            if 0 <= x < width and 0 <= y < height:\n",
    "                pixel_color = image.getpixel((x, y))\n",
    "                colors.append(pixel_color)\n",
    "\n",
    "    return colors\n"
   ]
  },
  {
   "cell_type": "code",
   "execution_count": 8,
   "metadata": {},
   "outputs": [],
   "source": [
    "def hsv_color_similarity(color1, color2):\n",
    "    hue_diff = abs(color1[0] - color2[0])\n",
    "    sat_diff = abs(color1[1] - color2[1])\n",
    "    val_diff = abs(color1[2] - color2[2])\n",
    "    return hue_diff + sat_diff + val_diff"
   ]
  },
  {
   "cell_type": "code",
   "execution_count": 9,
   "metadata": {},
   "outputs": [],
   "source": [
    "def region_growing(image, seed, colors, threshold, visited):\n",
    "    width, height = image.size\n",
    "    stack = [seed]\n",
    "    region = []\n",
    "    target_colors = set(colors)  # Usamos um conjunto para verificação mais eficiente\n",
    "\n",
    "    while stack:\n",
    "        x, y = stack.pop()\n",
    "        if not visited[x, y]:\n",
    "            visited[x, y] = True\n",
    "            pixel_color = image.getpixel((x, y))\n",
    "            if any(hsv_color_similarity(pixel_color, target_color) <= threshold for target_color in target_colors):\n",
    "                region.append((x, y))\n",
    "\n",
    "                neighbors_8 = [\n",
    "                    (x - 1, y - 1), (x, y - 1), (x + 1, y - 1),\n",
    "                    (x - 1, y), (x + 1, y),\n",
    "                    (x - 1, y + 1), (x, y + 1), (x + 1, y + 1)\n",
    "                ]\n",
    "\n",
    "                neighbors_4 = [\n",
    "                    (x, y - 1),\n",
    "                    (x - 1, y),\n",
    "                    (x + 1, y),\n",
    "                    (x, y + 1)\n",
    "                ]\n",
    "                \n",
    "                stack.extend((n for n in neighbors_4 if 0 <= n[0] < width and 0 <= n[1] < height))\n",
    "\n",
    "    return region"
   ]
  },
  {
   "cell_type": "code",
   "execution_count": 10,
   "metadata": {},
   "outputs": [],
   "source": [
    "def contour_segmented_images(segmented_image):\n",
    "    gray = cv2.cvtColor(segmented_image, cv2.COLOR_BGR2GRAY)\n",
    "    blurred = cv2.GaussianBlur(gray, (5, 5), 0)\n",
    "    _, binary = cv2.threshold(blurred, 0, 255, cv2.THRESH_BINARY + cv2.THRESH_OTSU)\n",
    "    inverted = cv2.bitwise_not(binary)\n",
    "    contours_per_image, _ = cv2.findContours(inverted, cv2.RETR_EXTERNAL, cv2.CHAIN_APPROX_SIMPLE)\n",
    "    largest_contour = max(contours_per_image, key=cv2.contourArea)\n",
    "    return largest_contour"
   ]
  },
  {
   "cell_type": "code",
   "execution_count": 11,
   "metadata": {},
   "outputs": [],
   "source": [
    "def apply_mask(image_data, contours):\n",
    "    mask = np.zeros_like(image_data, dtype=np.uint8)\n",
    "    cv2.drawContours(mask, [contours], 0, (255, 255, 255), thickness=cv2.FILLED)\n",
    "    segmented_image_with_contour = cv2.bitwise_and(np.array(image_data), mask)\n",
    "    return segmented_image_with_contour\n"
   ]
  },
  {
   "cell_type": "code",
   "execution_count": 12,
   "metadata": {},
   "outputs": [],
   "source": [
    "def process_segmentation(image_data):\n",
    "    segmented_images = {}\n",
    "\n",
    "    for folder, images in image_data.items():\n",
    "        segmented_image_list = []\n",
    "\n",
    "        for image in images:\n",
    "            center_colors = get_colors_around_center_pixel(image, radius=4)\n",
    "            seed = (image.width // 2, image.height // 2)\n",
    "            threshold = 30  # Ajuste este valor de acordo com a similaridade desejada\n",
    "            visited = np.zeros((image.width, image.height), dtype=bool)\n",
    "            region = region_growing(image, seed, center_colors, threshold, visited)\n",
    "\n",
    "            # Crie uma nova imagem com o fundo branco e depois adicione a região segmentada\n",
    "            segmented_image = Image.new('RGB', image.size, (255, 255, 255))\n",
    "            for pixel in region:\n",
    "                segmented_image.putpixel(pixel, image.getpixel(pixel))\n",
    "            segmented_image_list.append(segmented_image)\n",
    "            # plot_single_image_and_original(segmented_image, image) # Plotar as imagens conforme for segmentando para ver se está sendo certo\n",
    "        segmented_images[folder] = segmented_image_list\n",
    "    return segmented_images\n"
   ]
  },
  {
   "cell_type": "code",
   "execution_count": 13,
   "metadata": {},
   "outputs": [],
   "source": [
    "def process_contours(segmented_images, image_data):\n",
    "    final_segmentation = {}\n",
    "    contours_final_segmentation = {}\n",
    "\n",
    "    for folder, images in segmented_images.items():\n",
    "        final_segmentation_list = []\n",
    "        contours_final_segmentation_list = []\n",
    "\n",
    "        num_images = len(images)\n",
    "        for i in range(0, num_images):\n",
    "            array_image = np.array(segmented_images.get(folder)[i])\n",
    "            contours = contour_segmented_images(array_image)\n",
    "            final_segmentation_image = apply_mask(image_data.get(folder)[i], contours)\n",
    "            # casting_image = Image.fromarray(final_segmentation_image) # Caso precise\n",
    "            final_segmentation_list.append(final_segmentation_image)\n",
    "            contours_final_segmentation_list.append(contours)\n",
    "\n",
    "        final_segmentation[folder] = final_segmentation_list\n",
    "        contours_final_segmentation[folder] = contours_final_segmentation_list\n",
    "    return final_segmentation, contours_final_segmentation,"
   ]
  },
  {
   "cell_type": "code",
   "execution_count": 14,
   "metadata": {},
   "outputs": [],
   "source": [
    "image_data = read_images('../images-processed/')"
   ]
  },
  {
   "cell_type": "code",
   "execution_count": 15,
   "metadata": {},
   "outputs": [],
   "source": [
    "segmented_images = process_segmentation(image_data)\n",
    "# segmented_images = read_images('../segmented-images/')"
   ]
  },
  {
   "cell_type": "code",
   "execution_count": 16,
   "metadata": {},
   "outputs": [],
   "source": [
    "final_segmentation, contours_final_segmentation = process_contours(segmented_images, image_data)"
   ]
  },
  {
   "cell_type": "code",
   "execution_count": null,
   "metadata": {},
   "outputs": [],
   "source": [
    "import pandas as pd\n",
    "import math\n",
    "\n",
    "def calculate_area(image, black_color=[0, 0, 0]):\n",
    "    non_black_pixels = np.argwhere(np.all(np.array(image) != black_color, axis=-1))\n",
    "    return len(non_black_pixels)\n",
    "\n",
    "def calculate_compactness(area, contour):\n",
    "    perimeter = cv2.arcLength(contour, True)\n",
    "    compactness = (perimeter ** 2) / (4 * np.pi * area)\n",
    "    return compactness\n",
    "\n",
    "def calculate_eccentricity(image, black_color=[0, 0, 0]):\n",
    "    non_black_pixels = np.argwhere(np.all(np.array(image) != black_color, axis=-1))\n",
    "    moments = cv2.moments(non_black_pixels)\n",
    "    Ixx = moments['mu20']\n",
    "    Iyy = moments['mu02']\n",
    "    Ixy = moments['mu11']\n",
    "    a = (Ixx + Iyy) / 2 + np.sqrt(4 * Ixy**2 + (Ixx - Iyy)**2) / 2\n",
    "    b = (Ixx + Iyy) / 2 - np.sqrt(4 * Ixy**2 + (Ixx - Iyy)**2) / 2\n",
    "    eccentricity = np.sqrt(1 - b/a)\n",
    "    return eccentricity\n",
    "\n",
    "def extract_features(image_data, contours_final_segmentation):\n",
    "    data = {'Class': [], 'Area': [], 'Compactness': [], 'Eccentricity': []}\n",
    "\n",
    "    for class_label, images in image_data.items():\n",
    "        for i, image in enumerate(images):\n",
    "            contour = contours_final_segmentation[class_label][i]\n",
    "            area = calculate_area(image)\n",
    "            compactness = calculate_compactness(area, contour)\n",
    "            eccentricity = calculate_eccentricity(image)\n",
    "\n",
    "            if math.isnan(eccentricity):\n",
    "                eccentricity = 0\n",
    "\n",
    "            data['Class'].append(class_label)\n",
    "            data['Area'].append(area)\n",
    "            data['Compactness'].append(compactness)\n",
    "            data['Eccentricity'].append(eccentricity)\n",
    "\n",
    "    return pd.DataFrame(data)\n",
    "\n",
    "# Calculate features\n",
    "features_df = extract_features(final_segmentation, contours_final_segmentation)\n",
    "\n",
    "# Save to CSV\n",
    "features_df.to_csv('features.csv', index=False)"
   ]
  },
  {
   "cell_type": "code",
   "execution_count": null,
   "metadata": {},
   "outputs": [],
   "source": [
    "import seaborn as sns\n",
    "\n",
    "# Get unique classes from the 'Class' column in your DataFrame\n",
    "unique_classes = features_df['Class'].unique()\n",
    "\n",
    "# Create a color palette with distinct colors for each class\n",
    "class_palette = {class_label: sns.color_palette()[i] for i, class_label in enumerate(unique_classes)}\n",
    "\n",
    "# Create scatterplot\n",
    "plt.figure(figsize=(12, 8))\n",
    "sns.scatterplot(x='Area', y='Eccentricity', hue='Class', data=features_df, palette=class_palette, s=80)\n",
    "\n",
    "plt.title('Scatterplot of Area vs Compactness')\n",
    "plt.xlabel('Area')\n",
    "plt.ylabel('Eccentricity')\n",
    "plt.legend()\n",
    "plt.show()"
   ]
  },
  {
   "cell_type": "code",
   "execution_count": 17,
   "metadata": {},
   "outputs": [],
   "source": [
    "def display_all_images(data, num_images_to_display=10):\n",
    "    for folder, images in data.items():\n",
    "        print(f\"Folder: {folder}\")\n",
    "        num_images = len(images)\n",
    "        \n",
    "        for i in range(0, num_images, num_images_to_display):\n",
    "            fig, axes = plt.subplots(1, min(num_images_to_display, num_images - i), figsize=(15, 5))\n",
    "            \n",
    "            if num_images_to_display == 1:\n",
    "                axes = [axes]\n",
    "                \n",
    "            for j, ax in enumerate(axes):\n",
    "                if j + i < num_images:\n",
    "                    ax.imshow(images[i + j], cmap='gray')\n",
    "                    ax.axis('off')\n",
    "            \n",
    "            plt.show()"
   ]
  },
  {
   "cell_type": "code",
   "execution_count": 18,
   "metadata": {},
   "outputs": [],
   "source": [
    "def plot_single_image_and_original(segmented_image, original_image):\n",
    "    plt.figure(figsize=(12, 5))\n",
    "    plt.subplot(1, 2, 1)\n",
    "    plt.imshow(original_image)\n",
    "    plt.title('Original Image')\n",
    "    plt.axis('off')\n",
    "\n",
    "    plt.subplot(1, 2, 2)\n",
    "    plt.imshow(segmented_image)\n",
    "    plt.title('Segmented Image')\n",
    "    plt.axis('off')\n",
    "\n",
    "    plt.show()"
   ]
  },
  {
   "cell_type": "code",
   "execution_count": 19,
   "metadata": {},
   "outputs": [],
   "source": [
    "def create_folders_classes(classes):\n",
    "        try:\n",
    "            for class_name in classes:\n",
    "                class_dir = os.path.join('../segmented-images/', class_name)\n",
    "                os.makedirs(class_dir, exist_ok=True)\n",
    "            print('Diretórios criados com sucesso.')\n",
    "            return True\n",
    "        except Exception as e:\n",
    "            raise Exception(f'Erro ao criar diretórios: {str(e)}')"
   ]
  },
  {
   "cell_type": "code",
   "execution_count": 22,
   "metadata": {},
   "outputs": [],
   "source": [
    "def write_segmented_images(image_data, segmented_images, output_dir):\n",
    "    for folder, images in image_data.items():\n",
    "        segmented_folder = os.path.join(output_dir, folder)\n",
    "        os.makedirs(segmented_folder, exist_ok=True)\n",
    "\n",
    "        for image, segmented_image in zip(images, segmented_images[folder]):\n",
    "            image_name = os.path.splitext(os.path.basename(image.filename))[0]\n",
    "            output_filename = f\"{image_name}_segmented.jpg\"\n",
    "            output_path = os.path.join(segmented_folder, output_filename)\n",
    "            segmented_image = Image.fromarray(segmented_image)\n",
    "            segmented_image.save(output_path)\n",
    "    print(f'Todas as imagens carregadas para {output_dir}')\n"
   ]
  },
  {
   "cell_type": "code",
   "execution_count": 23,
   "metadata": {},
   "outputs": [
    {
     "name": "stdout",
     "output_type": "stream",
     "text": [
      "Diretórios criados com sucesso.\n",
      "Todas as imagens carregadas para ../segmented-images/\n"
     ]
    }
   ],
   "source": [
    "CLASSES = ['Negative for intraepithelial lesion', 'ASC-US', 'ASC-H', 'LSIL', 'HSIL', 'SCC']\n",
    "create_folders_classes(CLASSES)\n",
    "write_segmented_images(image_data, final_segmentation, '../segmented-images/')"
   ]
  },
  {
   "cell_type": "code",
   "execution_count": null,
   "metadata": {},
   "outputs": [],
   "source": [
    "display_all_images(final_segmentation, num_images_to_display=20)"
   ]
  }
 ],
 "metadata": {
  "kernelspec": {
   "display_name": "Python 3",
   "language": "python",
   "name": "python3"
  },
  "language_info": {
   "codemirror_mode": {
    "name": "ipython",
    "version": 3
   },
   "file_extension": ".py",
   "mimetype": "text/x-python",
   "name": "python",
   "nbconvert_exporter": "python",
   "pygments_lexer": "ipython3",
   "version": "3.11.5"
  }
 },
 "nbformat": 4,
 "nbformat_minor": 2
}
