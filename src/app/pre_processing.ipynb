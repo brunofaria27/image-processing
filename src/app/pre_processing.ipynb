{
 "cells": [
  {
   "cell_type": "code",
   "execution_count": 22,
   "metadata": {},
   "outputs": [],
   "source": [
    "# Imports\n",
    "import os\n",
    "import matplotlib.pyplot as plt\n",
    "import cv2\n",
    "import numpy as np\n",
    "\n",
    "from PIL import Image"
   ]
  },
  {
   "cell_type": "code",
   "execution_count": 23,
   "metadata": {},
   "outputs": [],
   "source": [
    "# Diretório principal\n",
    "base_dir = '../images-processed/'\n",
    "\n",
    "# Dicionário para armazenar imagens por pasta\n",
    "image_data = {}\n",
    "\n",
    "# Percorra as pastas dentro do diretório base\n",
    "for folder in os.listdir(base_dir):\n",
    "    folder_path = os.path.join(base_dir, folder)\n",
    "    \n",
    "    # Verifique se é uma pasta\n",
    "    if os.path.isdir(folder_path):\n",
    "        images = []\n",
    "        \n",
    "        # Percorra os arquivos de imagem na pasta\n",
    "        for filename in os.listdir(folder_path):\n",
    "            file_path = os.path.join(folder_path, filename)\n",
    "            \n",
    "            # Verifique se o arquivo é uma imagem\n",
    "            if file_path.lower().endswith(('.png', '.jpg')):\n",
    "                image = Image.open(file_path)\n",
    "                images.append(image)\n",
    "        \n",
    "        # Adicione a lista de imagens ao dicionário\n",
    "        image_data[folder] = images"
   ]
  },
  {
   "cell_type": "code",
   "execution_count": 24,
   "metadata": {},
   "outputs": [],
   "source": [
    "def convert_to_grayscale(image_data):\n",
    "    grayscale_data = {}\n",
    "\n",
    "    for folder, images in image_data.items():\n",
    "        grayscale_images = []\n",
    "\n",
    "        for image in images:\n",
    "            # Converter a imagem PIL para numpy array\n",
    "            image_np = np.array(image)\n",
    "\n",
    "            # Aplicar a conversão para tons de cinza\n",
    "            grayscale_image = cv2.cvtColor(image_np, cv2.COLOR_BGR2GRAY)\n",
    "            grayscale_images.append(grayscale_image)\n",
    "\n",
    "        grayscale_data[folder] = grayscale_images\n",
    "\n",
    "    return grayscale_data"
   ]
  },
  {
   "cell_type": "code",
   "execution_count": 25,
   "metadata": {},
   "outputs": [],
   "source": [
    "def display_images(data, num_images_to_display=10):\n",
    "    for folder, images in data.items():\n",
    "        print(f\"Folder: {folder}\")\n",
    "        num_images = len(images)\n",
    "        \n",
    "        for i in range(0, num_images, num_images_to_display):\n",
    "            fig, axes = plt.subplots(1, min(num_images_to_display, num_images - i), figsize=(15, 5))\n",
    "\n",
    "            for j, ax in enumerate(axes):\n",
    "                if j + i < num_images:\n",
    "                    ax.imshow(images[i + j], cmap='gray')\n",
    "                    ax.axis('off')\n",
    "            \n",
    "            plt.show()"
   ]
  },
  {
   "cell_type": "code",
   "execution_count": 26,
   "metadata": {},
   "outputs": [],
   "source": [
    "def segment_nuclei_with_threshold(grayscale_images, threshold_value=128):\n",
    "    segmented_images = {}\n",
    "\n",
    "    for folder, images in grayscale_images.items():\n",
    "        segmented_image_list = []\n",
    "\n",
    "        for image in images:\n",
    "            # Aplicar a limiarização para segmentar a imagem\n",
    "            _, segmented_image = cv2.threshold(image, threshold_value, 255, cv2.THRESH_BINARY)\n",
    "            segmented_image_list.append(segmented_image)\n",
    "\n",
    "        segmented_images[folder] = segmented_image_list\n",
    "\n",
    "    return segmented_images"
   ]
  },
  {
   "cell_type": "code",
   "execution_count": null,
   "metadata": {},
   "outputs": [],
   "source": [
    "grayscale_image_data = convert_to_grayscale(image_data=image_data)\n",
    "segmented_nuclei_data = segment_nuclei_with_threshold(grayscale_image_data)\n",
    "display_images(segmented_nuclei_data, num_images_to_display=20)"
   ]
  }
 ],
 "metadata": {
  "kernelspec": {
   "display_name": "Python 3",
   "language": "python",
   "name": "python3"
  },
  "language_info": {
   "codemirror_mode": {
    "name": "ipython",
    "version": 3
   },
   "file_extension": ".py",
   "mimetype": "text/x-python",
   "name": "python",
   "nbconvert_exporter": "python",
   "pygments_lexer": "ipython3",
   "version": "3.11.5"
  }
 },
 "nbformat": 4,
 "nbformat_minor": 2
}
